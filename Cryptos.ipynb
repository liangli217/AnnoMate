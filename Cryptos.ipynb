{
  "nbformat": 4,
  "nbformat_minor": 0,
  "metadata": {
    "colab": {
      "provenance": [],
      "authorship_tag": "ABX9TyOjIuLwu1G9ZdnwF5echySn",
      "include_colab_link": true
    },
    "kernelspec": {
      "name": "python3",
      "display_name": "Python 3"
    },
    "language_info": {
      "name": "python"
    }
  },
  "cells": [
    {
      "cell_type": "markdown",
      "metadata": {
        "id": "view-in-github",
        "colab_type": "text"
      },
      "source": [
        "<a href=\"https://colab.research.google.com/github/liangli217/AnnoMate/blob/master/Cryptos.ipynb\" target=\"_parent\"><img src=\"https://colab.research.google.com/assets/colab-badge.svg\" alt=\"Open In Colab\"/></a>"
      ]
    },
    {
      "cell_type": "markdown",
      "source": [
        "Step 1: Generating a crypto identity\n",
        "First we want to genearte a brand new crptographic identity, which is just a private , public key pair. Bitcoin uses **Elliptic Curve Cryptography** instead of something more common like RSA to secure the transactions. An elliptic curve is a fairly low dimensional mathematical object and takes only 3 integers to define:"
      ],
      "metadata": {
        "id": "sqe56Ckynjyg"
      }
    },
    {
      "cell_type": "code",
      "source": [],
      "metadata": {
        "id": "knWprn3yokTo"
      },
      "execution_count": null,
      "outputs": []
    }
  ]
}